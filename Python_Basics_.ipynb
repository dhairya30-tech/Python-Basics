{
  "nbformat": 4,
  "nbformat_minor": 0,
  "metadata": {
    "colab": {
      "provenance": []
    },
    "kernelspec": {
      "name": "python3",
      "display_name": "Python 3"
    },
    "language_info": {
      "name": "python"
    }
  },
  "cells": [
    {
      "cell_type": "code",
      "execution_count": null,
      "metadata": {
        "id": "exju0SlTTiC2"
      },
      "outputs": [],
      "source": []
    },
    {
      "cell_type": "markdown",
      "source": [
        "**THEORY QUESTIONS**\n",
        "\n",
        "1 What is Python, and why is it popular\n",
        "ANSWER.1 . Python is the most popular programming language in the world, and its user base is constantly growing. But what is Python used for? Many industries and companies use Python to analyze data, build machine learning models, create websites, and program software.\n",
        "\n",
        "2. What is an interpreter in Python\n",
        "ANSWER.2. A python interpreter is a computer program that converts each high-level program statement into machine code.\n",
        "\n",
        "3. What are pre-defined keywords in Python\n",
        "ANSWER.3.Predefined keywords in Python are words with specific meanings and uses that are reserved for internal operations and cannot be changed by the programmer.\n",
        "\n",
        "4. Can keywords be used as variable names\n",
        "ANSWER.4.No, Python keywords cannot be used as variable names\n",
        "\n",
        "5.What is mutability in Python\n",
        "ANSWER.5.the ability of an object to change after it has been created .\n",
        "\n",
        "6. Why are lists mutable, but tuples are immutable.\n",
        "ANSWER.6.Tuples and lists are the same in every way except two: tuples use parentheses instead of square brackets, and the items in tuples cannot be modified (but the items in lists can be modified). We often call lists mutable (meaning they can be changed) and tuples immutable (meaning they cannot be changed).\n",
        "\n",
        "7. What is the difference between “==” and “is” operators in Python.\n",
        "ANSWER.7. In Python, == and is operators are both used for comparison but they serve different purposes. The == operator checks for equality of values which means it evaluates whether the values of two objects are the same. On the other hand, is operator checks for identity, meaning it determines whether two variables point to the same object in memory.\n",
        "\n",
        "8.What are logical operators in Python .\n",
        "ANSWER.8 Logical operators in Python are special characters or symbols that evaluate multiple conditions and determine the truth value of an expression.\n",
        "\n",
        "9.What is type casting in Python.\n",
        "ANSWER.9. Type casting in Python is the process of converting a variable's data type from one type to another.\n",
        "\n",
        "10.What is the difference between implicit and explicit type casting.\n",
        "ANSWER.10.The main difference between implicit and explicit type casting in Python is that implicit type casting is automatic, while explicit type casting is manual\n",
        "\n",
        "11.What is the purpose of conditional statements in Python.\n",
        "ANSWER.11.The purpose of a conditional statement in Python is to control the flow of a program by making decisions based on certain conditions\n",
        "\n",
        "12. How does the elif statement work.\n",
        "ANSWER.12.In Python, elif is short for \"else if\" and is used when the first if statement isn't true, but you want to check for another condition. Meaning, if statements pair up with elif and else statements to perform a series of checks.\n",
        "\n",
        "13.What is the difference between for and while loops.\n",
        "ANSWER.13.For loop is used to iterate over a sequence of items. While loop is used to repeatedly execute a block of statements while a condition is true. For loops are designed for iterating over a sequence of items.\n",
        "\n",
        "14.Describe a scenario where a while loop is more suitable than a for loop.\n",
        "ANSWER.14.n general, you should use a for loop when you know how many times the loop should run. If you want the loop to break based on a condition other than the number of times it runs, you should use a while loop."
      ],
      "metadata": {
        "id": "Ievw9gQDTqdd"
      }
    },
    {
      "cell_type": "code",
      "source": [
        "#PRACTICAL QUESTIONS"
      ],
      "metadata": {
        "id": "wDlEk6S8ZJ-M"
      },
      "execution_count": null,
      "outputs": []
    },
    {
      "cell_type": "markdown",
      "source": [],
      "metadata": {
        "id": "q9RjVBnfZg4B"
      }
    },
    {
      "cell_type": "code",
      "source": [
        "# 1. Write a Python program to print \"Hello, World!\n",
        "#ANSWR .\n",
        "print('Hello, world!')"
      ],
      "metadata": {
        "colab": {
          "base_uri": "https://localhost:8080/"
        },
        "id": "WcIXDQGdZTuZ",
        "outputId": "adfbc90a-cabf-4453-9159-60fb8e41a6bb"
      },
      "execution_count": null,
      "outputs": [
        {
          "output_type": "stream",
          "name": "stdout",
          "text": [
            "Hello, world!\n"
          ]
        }
      ]
    },
    {
      "cell_type": "code",
      "source": [
        "#2. Write a Python program that displays your name and age0\n",
        "# ANSWER:\n",
        "age = input(\"Enter age: \")\n",
        "name = input(\"Enter name: \")\n",
        "print(\"Hi, my name is \" + name + \", and I am \" + age + \" years old.\")\n",
        "\n"
      ],
      "metadata": {
        "colab": {
          "base_uri": "https://localhost:8080/"
        },
        "id": "ziSgUin8Z3ob",
        "outputId": "adb99866-99dc-450a-d56d-46978ee84662"
      },
      "execution_count": null,
      "outputs": [
        {
          "output_type": "stream",
          "name": "stdout",
          "text": [
            "Enter age: 27\n",
            "Enter name: DHAIRYA GANGRADE\n",
            "Hi, my name is DHAIRYA GANGRADE, and I am 27 years old.\n"
          ]
        }
      ]
    },
    {
      "cell_type": "code",
      "source": [
        "#3. Write code to print all the pre-defined keywords in Python using the keyword library0\n",
        "#ANSWER\n",
        "help(\"keywords\")\n"
      ],
      "metadata": {
        "colab": {
          "base_uri": "https://localhost:8080/"
        },
        "id": "A0rxd_jgaEBp",
        "outputId": "c5e791b8-1d03-438f-bebd-c34675864ed2"
      },
      "execution_count": null,
      "outputs": [
        {
          "output_type": "stream",
          "name": "stdout",
          "text": [
            "\n",
            "Here is a list of the Python keywords.  Enter any keyword to get more help.\n",
            "\n",
            "False               class               from                or\n",
            "None                continue            global              pass\n",
            "True                def                 if                  raise\n",
            "and                 del                 import              return\n",
            "as                  elif                in                  try\n",
            "assert              else                is                  while\n",
            "async               except              lambda              with\n",
            "await               finally             nonlocal            yield\n",
            "break               for                 not                 \n",
            "\n"
          ]
        }
      ]
    },
    {
      "cell_type": "code",
      "source": [
        "# Q 4: Write a program that checks if a given word is a Python keyword.\n",
        "#A 4: check if the word is keyword\n",
        "Word = input(\"Enter a word\")\n",
        "if keyword.iskeyword(Word):\n",
        "    print(Word, \"is a keyword\")\n",
        "else:\n",
        "    print(Word, \"is not a keyword\")"
      ],
      "metadata": {
        "id": "sDMyez0bcZkl",
        "colab": {
          "base_uri": "https://localhost:8080/",
          "height": 228
        },
        "outputId": "3805271b-0f7c-400f-dc97-36434bf6493d"
      },
      "execution_count": 9,
      "outputs": [
        {
          "name": "stdout",
          "output_type": "stream",
          "text": [
            "Enter a wordif\n"
          ]
        },
        {
          "output_type": "error",
          "ename": "NameError",
          "evalue": "name 'keyword' is not defined",
          "traceback": [
            "\u001b[0;31m---------------------------------------------------------------------------\u001b[0m",
            "\u001b[0;31mNameError\u001b[0m                                 Traceback (most recent call last)",
            "\u001b[0;32m<ipython-input-9-a4bdb1dafc18>\u001b[0m in \u001b[0;36m<cell line: 4>\u001b[0;34m()\u001b[0m\n\u001b[1;32m      2\u001b[0m \u001b[0;31m#A 4: check if the word is keyword\u001b[0m\u001b[0;34m\u001b[0m\u001b[0;34m\u001b[0m\u001b[0m\n\u001b[1;32m      3\u001b[0m \u001b[0mWord\u001b[0m \u001b[0;34m=\u001b[0m \u001b[0minput\u001b[0m\u001b[0;34m(\u001b[0m\u001b[0;34m\"Enter a word\"\u001b[0m\u001b[0;34m)\u001b[0m\u001b[0;34m\u001b[0m\u001b[0;34m\u001b[0m\u001b[0m\n\u001b[0;32m----> 4\u001b[0;31m \u001b[0;32mif\u001b[0m \u001b[0mkeyword\u001b[0m\u001b[0;34m.\u001b[0m\u001b[0miskeyword\u001b[0m\u001b[0;34m(\u001b[0m\u001b[0mWord\u001b[0m\u001b[0;34m)\u001b[0m\u001b[0;34m:\u001b[0m\u001b[0;34m\u001b[0m\u001b[0;34m\u001b[0m\u001b[0m\n\u001b[0m\u001b[1;32m      5\u001b[0m     \u001b[0mprint\u001b[0m\u001b[0;34m(\u001b[0m\u001b[0mWord\u001b[0m\u001b[0;34m,\u001b[0m \u001b[0;34m\"is a keyword\"\u001b[0m\u001b[0;34m)\u001b[0m\u001b[0;34m\u001b[0m\u001b[0;34m\u001b[0m\u001b[0m\n\u001b[1;32m      6\u001b[0m \u001b[0;32melse\u001b[0m\u001b[0;34m:\u001b[0m\u001b[0;34m\u001b[0m\u001b[0;34m\u001b[0m\u001b[0m\n",
            "\u001b[0;31mNameError\u001b[0m: name 'keyword' is not defined"
          ]
        }
      ]
    },
    {
      "cell_type": "code",
      "source": [
        "\\n#Q 5: Create a list and tuple in Python, and demonstrate how attempting to change an element works differently\\nfor each.\\n\n",
        "# A 5: create a list and change to show that list is a mutable object"
      ],
      "metadata": {
        "id": "WpQCUN30bnhI"
      },
      "execution_count": null,
      "outputs": []
    },
    {
      "cell_type": "code",
      "source": [
        "list_cont = [1, 2, 3, 4, 5, (2-1j), \"Megha\"]\n",
        "list_cont"
      ],
      "metadata": {
        "colab": {
          "base_uri": "https://localhost:8080/"
        },
        "id": "82yiqpLtZoId",
        "outputId": "0bf0373b-462f-4029-c246-7ca340ad2c07"
      },
      "execution_count": 7,
      "outputs": [
        {
          "output_type": "execute_result",
          "data": {
            "text/plain": [
              "[1, 2, 3, 4, 5, (2-1j), 'Megha']"
            ]
          },
          "metadata": {},
          "execution_count": 7
        }
      ]
    },
    {
      "cell_type": "code",
      "source": [
        "list_cont[2]"
      ],
      "metadata": {
        "colab": {
          "base_uri": "https://localhost:8080/"
        },
        "id": "ZmQq6LQSbSzB",
        "outputId": "3d343301-08a9-4611-e115-9feb28be00d5"
      },
      "execution_count": 10,
      "outputs": [
        {
          "output_type": "execute_result",
          "data": {
            "text/plain": [
              "3"
            ]
          },
          "metadata": {},
          "execution_count": 10
        }
      ]
    },
    {
      "cell_type": "code",
      "source": [
        "# Q 6: Write a function to demonstrate the behavior of mutable and immutable arguments.\n",
        "# A 6:  we can demonstrate the behaviour of mutable and immutable arguments with the help of lists and tuples.\n",
        "# List is mutable, however Tuple is immutable in nature i.e. its values cannot be changed.\n",
        "#example- String is immutable\n",
        "word= \"DHAIRYA\"\n",
        "word\n"
      ],
      "metadata": {
        "colab": {
          "base_uri": "https://localhost:8080/",
          "height": 35
        },
        "id": "zSBB8MU6b0Yt",
        "outputId": "e37b58a4-7e19-4ab4-cf14-d12166328e4c"
      },
      "execution_count": 12,
      "outputs": [
        {
          "output_type": "execute_result",
          "data": {
            "text/plain": [
              "'DHAIRYA'"
            ],
            "application/vnd.google.colaboratory.intrinsic+json": {
              "type": "string"
            }
          },
          "metadata": {},
          "execution_count": 12
        }
      ]
    },
    {
      "cell_type": "code",
      "source": [
        "word[0]= 'G'\n",
        "word\n"
      ],
      "metadata": {
        "colab": {
          "base_uri": "https://localhost:8080/",
          "height": 159
        },
        "id": "jcr5srNTcEt8",
        "outputId": "ce119f68-8b83-49ef-8470-538994ad12d3"
      },
      "execution_count": 13,
      "outputs": [
        {
          "output_type": "error",
          "ename": "TypeError",
          "evalue": "'str' object does not support item assignment",
          "traceback": [
            "\u001b[0;31m---------------------------------------------------------------------------\u001b[0m",
            "\u001b[0;31mTypeError\u001b[0m                                 Traceback (most recent call last)",
            "\u001b[0;32m<ipython-input-13-1e314bb7a0a4>\u001b[0m in \u001b[0;36m<cell line: 1>\u001b[0;34m()\u001b[0m\n\u001b[0;32m----> 1\u001b[0;31m \u001b[0mword\u001b[0m\u001b[0;34m[\u001b[0m\u001b[0;36m0\u001b[0m\u001b[0;34m]\u001b[0m\u001b[0;34m=\u001b[0m \u001b[0;34m'G'\u001b[0m\u001b[0;34m\u001b[0m\u001b[0;34m\u001b[0m\u001b[0m\n\u001b[0m\u001b[1;32m      2\u001b[0m \u001b[0mword\u001b[0m\u001b[0;34m\u001b[0m\u001b[0;34m\u001b[0m\u001b[0m\n",
            "\u001b[0;31mTypeError\u001b[0m: 'str' object does not support item assignment"
          ]
        }
      ]
    },
    {
      "cell_type": "code",
      "source": [],
      "metadata": {
        "id": "0o8CxDRPcTeU"
      },
      "execution_count": null,
      "outputs": []
    }
  ]
}